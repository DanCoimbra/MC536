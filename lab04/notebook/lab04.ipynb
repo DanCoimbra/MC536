{
 "cells": [
  {
   "cell_type": "markdown",
   "id": "0703ae59",
   "metadata": {},
   "source": [
    "# Setup"
   ]
  },
  {
   "cell_type": "code",
   "execution_count": 1,
   "id": "7d5b9fc1",
   "metadata": {},
   "outputs": [],
   "source": [
    "%defaultDatasource jdbc:h2:mem:db"
   ]
  },
  {
   "cell_type": "code",
   "execution_count": 2,
   "id": "0ab2deba",
   "metadata": {},
   "outputs": [],
   "source": [
    "DROP Table IF EXISTS Person;\n",
    "DROP Table IF EXISTS Drug;\n",
    "DROP Table IF EXISTS DrugUse;"
   ]
  },
  {
   "cell_type": "code",
   "execution_count": 3,
   "id": "46b87c01",
   "metadata": {},
   "outputs": [],
   "source": [
    "CREATE TABLE Person (\n",
    "  Id VARCHAR(5) NOT NULL,\n",
    "  Gender INTEGER,\n",
    "  Age INTEGER,\n",
    "  PRIMARY KEY(Id)\n",
    ") AS SELECT\n",
    "    id,\n",
    "    gender,\n",
    "    age\n",
    "FROM CSVREAD('../data/demographic-person.csv');\n",
    "\n",
    "CREATE TABLE Drug (\n",
    "  Code VARCHAR(6) NOT NULL,\n",
    "  Name VARCHAR(100) NOT NULL,\n",
    "  PRIMARY KEY(Code)\n",
    ") AS SELECT\n",
    "    code,\n",
    "    name\n",
    "FROM CSVREAD('../data/medications-drug.csv');\n",
    "\n",
    "CREATE TABLE DrugUse (\n",
    "  PersonId VARCHAR(5) NOT NULL,\n",
    "  DrugCode VARCHAR(6) NOT NULL,\n",
    "  DaysUse INTEGER,\n",
    "  FOREIGN KEY(PersonId)\n",
    "    REFERENCES Person(Id)\n",
    "      ON DELETE NO ACTION\n",
    "      ON UPDATE NO ACTION,\n",
    "  FOREIGN KEY(DrugCode)\n",
    "    REFERENCES Drug(Code)\n",
    "      ON DELETE NO ACTION\n",
    "      ON UPDATE NO ACTION\n",
    ") AS SELECT\n",
    "    person_id,\n",
    "    drug_code,\n",
    "    days_use\n",
    "FROM CSVREAD('../data/medications-use.csv');"
   ]
  },
  {
   "cell_type": "code",
   "execution_count": 4,
   "id": "c3c99133",
   "metadata": {},
   "outputs": [
    {
     "data": {
      "application/vnd.jupyter.widget-view+json": {
       "model_id": "02753325-9997-40d5-9092-ac9a5100fe2c",
       "version_major": 2,
       "version_minor": 0
      },
      "method": "display_data"
     },
     "metadata": {},
     "output_type": "display_data"
    }
   ],
   "source": [
    "SELECT * FROM Person"
   ]
  },
  {
   "cell_type": "code",
   "execution_count": 5,
   "id": "3afb6c3f",
   "metadata": {},
   "outputs": [
    {
     "data": {
      "application/vnd.jupyter.widget-view+json": {
       "model_id": "83ee6e41-5d2f-4e1c-b6f3-36b83a0cb4dc",
       "version_major": 2,
       "version_minor": 0
      },
      "method": "display_data"
     },
     "metadata": {},
     "output_type": "display_data"
    }
   ],
   "source": [
    "SELECT * FROM Drug"
   ]
  },
  {
   "cell_type": "code",
   "execution_count": 6,
   "id": "86e57227",
   "metadata": {},
   "outputs": [
    {
     "data": {
      "application/vnd.jupyter.widget-view+json": {
       "model_id": "0daf50e4-b375-49eb-ad6b-9cddf972087a",
       "version_major": 2,
       "version_minor": 0
      },
      "method": "display_data"
     },
     "metadata": {},
     "output_type": "display_data"
    }
   ],
   "source": [
    "SELECT * FROM DrugUse"
   ]
  },
  {
   "cell_type": "markdown",
   "id": "e7b5473d",
   "metadata": {},
   "source": [
    "# I. Análise do comportamento estatístico"
   ]
  },
  {
   "cell_type": "markdown",
   "id": "53cb6338",
   "metadata": {},
   "source": [
    "### 1) Liste o nome de todos os medicamentos e a quantidade de pessoas que usa cada um deles."
   ]
  },
  {
   "cell_type": "code",
   "execution_count": 77,
   "id": "a26e1407",
   "metadata": {},
   "outputs": [],
   "source": [
    "DROP TABLE IF EXISTS View1;\n",
    "DROP TABLE IF EXISTS View2;"
   ]
  },
  {
   "cell_type": "code",
   "execution_count": 78,
   "id": "dc95ff73",
   "metadata": {},
   "outputs": [],
   "source": [
    "CREATE VIEW View1 AS\n",
    "SELECT Drug.name, Drug.code\n",
    "FROM Drug, DrugUse\n",
    "WHERE Drug.code = DrugUse.drugcode;"
   ]
  },
  {
   "cell_type": "code",
   "execution_count": 92,
   "id": "ebe43ce8",
   "metadata": {},
   "outputs": [],
   "source": [
    "CREATE VIEW View2 AS\n",
    "SELECT code, name, COUNT(name) as quantity\n",
    "FROM View1\n",
    "GROUP BY name\n",
    "ORDER BY quantity DESC, name;"
   ]
  },
  {
   "cell_type": "code",
   "execution_count": 94,
   "id": "3a27081c",
   "metadata": {},
   "outputs": [
    {
     "data": {
      "application/vnd.jupyter.widget-view+json": {
       "model_id": "38d88ce8-e89b-422f-8716-86875b5a89b8",
       "version_major": 2,
       "version_minor": 0
      },
      "method": "display_data"
     },
     "metadata": {},
     "output_type": "display_data"
    }
   ],
   "source": [
    "SELECT name, quantity FROM View2;"
   ]
  },
  {
   "cell_type": "markdown",
   "id": "de50f70a",
   "metadata": {},
   "source": [
    "### 2) Informe o código do medicamento mais usado: fazendo uso de VIEW."
   ]
  },
  {
   "cell_type": "code",
   "execution_count": 98,
   "id": "a49ce30e",
   "metadata": {},
   "outputs": [
    {
     "data": {
      "text/plain": [
       "d00732"
      ]
     },
     "execution_count": 98,
     "metadata": {},
     "output_type": "execute_result"
    }
   ],
   "source": [
    "SELECT code\n",
    "FROM (\n",
    "    SELECT TOP 1 *\n",
    "    FROM View2\n",
    "    ) Table1;"
   ]
  },
  {
   "cell_type": "markdown",
   "id": "6a9fa626",
   "metadata": {},
   "source": [
    "### 3) Informe o código do medicamento mais usado: sem fazer uso de VIEW."
   ]
  },
  {
   "cell_type": "code",
   "execution_count": 101,
   "id": "1795c442",
   "metadata": {},
   "outputs": [
    {
     "data": {
      "text/plain": [
       "d00732"
      ]
     },
     "execution_count": 101,
     "metadata": {},
     "output_type": "execute_result"
    }
   ],
   "source": [
    "SELECT code\n",
    "FROM (\n",
    "    SELECT Table1.code, COUNT(Table1.code) as quantity\n",
    "    FROM (\n",
    "        SELECT Drug.name, Drug.code\n",
    "        FROM Drug, DrugUse\n",
    "        WHERE Drug.code = DrugUse.drugcode\n",
    "        ) Table1\n",
    "    GROUP BY Table1.name\n",
    "    ORDER BY quantity DESC\n",
    "    LIMIT 1\n",
    "    ) Table2;"
   ]
  },
  {
   "cell_type": "markdown",
   "id": "b61e8d7d",
   "metadata": {},
   "source": [
    "### 4) Informe o nome do medicamento mais usado (uso de VIEW é opcional).\n",
    "\n",
    "##### NOTA: Selecionei os Top 2 porque visualizações de linha única parecem estar com problemas no BickerX."
   ]
  },
  {
   "cell_type": "code",
   "execution_count": 103,
   "id": "54d29714",
   "metadata": {},
   "outputs": [
    {
     "data": {
      "text/plain": [
       "LISINOPRIL"
      ]
     },
     "execution_count": 103,
     "metadata": {},
     "output_type": "execute_result"
    }
   ],
   "source": [
    "SELECT name\n",
    "FROM (\n",
    "    SELECT TOP 1 *\n",
    "    FROM View2\n",
    "    ) Table1;"
   ]
  },
  {
   "cell_type": "markdown",
   "id": "b54f10f0",
   "metadata": {},
   "source": [
    "### 5) Informe o número médio de uso de medicamento por pessoa.\n",
    "\n",
    "##### Nota: O número real é 14016 / 4033 ≅ 3.47. Abaixo tem-se o valor arredondado obtido pela função AVG, ou seja, 3."
   ]
  },
  {
   "cell_type": "code",
   "execution_count": 109,
   "id": "6fc49ca8",
   "metadata": {},
   "outputs": [],
   "source": [
    "DROP TABLE IF EXISTS View3;"
   ]
  },
  {
   "cell_type": "code",
   "execution_count": 110,
   "id": "e76eddc9",
   "metadata": {},
   "outputs": [],
   "source": [
    "CREATE VIEW View3 AS\n",
    "SELECT personid, COUNT(personid) as quantity\n",
    "FROM DrugUse\n",
    "GROUP BY personid;"
   ]
  },
  {
   "cell_type": "code",
   "execution_count": 113,
   "id": "42603148",
   "metadata": {},
   "outputs": [
    {
     "data": {
      "text/plain": [
       "14016"
      ]
     },
     "execution_count": 113,
     "metadata": {},
     "output_type": "execute_result"
    }
   ],
   "source": [
    "SELECT SUM(quantity) FROM View3;"
   ]
  },
  {
   "cell_type": "code",
   "execution_count": 114,
   "id": "06ea0d4e",
   "metadata": {},
   "outputs": [
    {
     "data": {
      "text/plain": [
       "4033"
      ]
     },
     "execution_count": 114,
     "metadata": {},
     "output_type": "execute_result"
    }
   ],
   "source": [
    "SELECT COUNT(*) FROM View3;"
   ]
  },
  {
   "cell_type": "code",
   "execution_count": 111,
   "id": "91128d47",
   "metadata": {},
   "outputs": [
    {
     "data": {
      "text/plain": [
       "3"
      ]
     },
     "execution_count": 111,
     "metadata": {},
     "output_type": "execute_result"
    }
   ],
   "source": [
    "SELECT AVG(quantity)\n",
    "FROM View3;"
   ]
  },
  {
   "cell_type": "markdown",
   "id": "b2cccee8",
   "metadata": {},
   "source": [
    "### 6) Liste o id das pessoas que usam mais medicamentos do que a média."
   ]
  },
  {
   "cell_type": "code",
   "execution_count": 120,
   "id": "f96a2124",
   "metadata": {},
   "outputs": [
    {
     "data": {
      "application/vnd.jupyter.widget-view+json": {
       "model_id": "4222bd94-ce61-49db-a32a-0e0ef22a2cd4",
       "version_major": 2,
       "version_minor": 0
      },
      "method": "display_data"
     },
     "metadata": {},
     "output_type": "display_data"
    }
   ],
   "source": [
    "SELECT personid\n",
    "FROM View3\n",
    "WHERE quantity > (\n",
    "    SELECT AVG(quantity)\n",
    "    FROM View3\n",
    "    );"
   ]
  },
  {
   "cell_type": "markdown",
   "id": "fd6a9f4e",
   "metadata": {},
   "source": [
    "### 7) Considere que um médico quer fazer responder a seguinte questão: pessoas tendem a usar mais medicamentos conforme ficam mais velhas? Escreva uma query que ajude o médico a realizar esta análise."
   ]
  },
  {
   "cell_type": "code",
   "execution_count": 135,
   "id": "19bae6e5",
   "metadata": {},
   "outputs": [],
   "source": [
    "DROP TABLE IF EXISTS View4;\n",
    "DROP TABLE IF EXISTS View5;"
   ]
  },
  {
   "cell_type": "code",
   "execution_count": 136,
   "id": "dad54884",
   "metadata": {},
   "outputs": [],
   "source": [
    "CREATE TABLE View4 AS\n",
    "SELECT Person.Age\n",
    "FROM Person, DrugUse\n",
    "WHERE Person.id = DrugUse.personid;"
   ]
  },
  {
   "cell_type": "code",
   "execution_count": 137,
   "id": "b7ed3758",
   "metadata": {},
   "outputs": [],
   "source": [
    "CREATE TABLE View5 AS\n",
    "SELECT age, COUNT(age) as quantity\n",
    "FROM View4\n",
    "GROUP BY age\n",
    "ORDER BY age DESC;"
   ]
  },
  {
   "cell_type": "code",
   "execution_count": 145,
   "id": "4fb6b5d2",
   "metadata": {},
   "outputs": [
    {
     "data": {
      "application/vnd.jupyter.widget-view+json": {
       "model_id": "b15acb63-433f-44a9-b5dc-8ea6f64cb68f",
       "version_major": 2,
       "version_minor": 0
      },
      "method": "display_data"
     },
     "metadata": {},
     "output_type": "display_data"
    }
   ],
   "source": [
    "SELECT * FROM View5;"
   ]
  },
  {
   "cell_type": "code",
   "execution_count": 141,
   "id": "8a0c0f5d",
   "metadata": {},
   "outputs": [
    {
     "data": {
      "text/plain": [
       "358"
      ]
     },
     "execution_count": 141,
     "metadata": {},
     "output_type": "execute_result"
    }
   ],
   "source": [
    "SELECT AVG(quantity)\n",
    "FROM View5\n",
    "WHERE age BETWEEN 60 AND 80"
   ]
  },
  {
   "cell_type": "code",
   "execution_count": 142,
   "id": "b6360825",
   "metadata": {},
   "outputs": [
    {
     "data": {
      "text/plain": [
       "196"
      ]
     },
     "execution_count": 142,
     "metadata": {},
     "output_type": "execute_result"
    }
   ],
   "source": [
    "SELECT AVG(quantity)\n",
    "FROM View5\n",
    "WHERE age BETWEEN 40 AND 59"
   ]
  },
  {
   "cell_type": "code",
   "execution_count": 143,
   "id": "4de7ea1f",
   "metadata": {},
   "outputs": [
    {
     "data": {
      "text/plain": [
       "63"
      ]
     },
     "execution_count": 143,
     "metadata": {},
     "output_type": "execute_result"
    }
   ],
   "source": [
    "SELECT AVG(quantity)\n",
    "FROM View5\n",
    "WHERE age BETWEEN 20 AND 39"
   ]
  },
  {
   "cell_type": "code",
   "execution_count": 144,
   "id": "69e6ec91",
   "metadata": {},
   "outputs": [
    {
     "data": {
      "text/plain": [
       "66"
      ]
     },
     "execution_count": 144,
     "metadata": {},
     "output_type": "execute_result"
    }
   ],
   "source": [
    "SELECT AVG(quantity)\n",
    "FROM View5\n",
    "WHERE age BETWEEN 0 AND 19"
   ]
  },
  {
   "cell_type": "markdown",
   "id": "85d442c3",
   "metadata": {},
   "source": [
    "# II. Navegando por Hierarquias"
   ]
  },
  {
   "cell_type": "code",
   "execution_count": 146,
   "id": "a1e86d40",
   "metadata": {},
   "outputs": [],
   "source": [
    "DROP TABLE IF EXISTS Taxonomia;\n",
    "DROP TABLE IF EXISTS Marcadores;"
   ]
  },
  {
   "cell_type": "code",
   "execution_count": 147,
   "id": "a54ea74c",
   "metadata": {},
   "outputs": [],
   "source": [
    "CREATE TABLE Taxonomia (\n",
    "  Categoria VARCHAR(50) NOT NULL,\n",
    "  Superior  VARCHAR(50),\n",
    "  PRIMARY KEY(Categoria),\n",
    "  FOREIGN KEY(Superior)\n",
    "    REFERENCES Taxonomia(Categoria)\n",
    "      ON DELETE NO ACTION\n",
    "      ON UPDATE CASCADE\n",
    ");\n",
    "\n",
    "CREATE TABLE Marcadores (\n",
    "  Titulo VARCHAR(50) NOT NULL,\n",
    "  Endereco VARCHAR(80) NOT NULL,\n",
    "  Acessos INTEGER,\n",
    "  Categoria VARCHAR(50) NOT NULL,\n",
    "  PRIMARY KEY(Titulo),\n",
    "  FOREIGN KEY(Categoria)\n",
    "    REFERENCES Taxonomia(Categoria)\n",
    "      ON DELETE NO ACTION\n",
    "      ON UPDATE CASCADE\n",
    ");"
   ]
  },
  {
   "cell_type": "code",
   "execution_count": 148,
   "id": "8f16196f",
   "metadata": {},
   "outputs": [],
   "source": [
    "INSERT INTO Taxonomia VALUES ('Geral', NULL);\n",
    "INSERT INTO Taxonomia VALUES ('Serviços', 'Geral');\n",
    "INSERT INTO Taxonomia VALUES ('Acadêmico', 'Geral');\n",
    "INSERT INTO Taxonomia VALUES ('Relacionamento', 'Geral');\n",
    "INSERT INTO Taxonomia VALUES ('Busca', 'Serviços');\n",
    "INSERT INTO Taxonomia VALUES ('Portal', 'Serviços');\n",
    "INSERT INTO Taxonomia VALUES ('Mail', 'Serviços');\n",
    "INSERT INTO Taxonomia VALUES ('Vendas', 'Serviços');\n",
    "INSERT INTO Taxonomia VALUES ('Universidade', 'Acadêmico');\n",
    "INSERT INTO Taxonomia VALUES ('CG', 'Acadêmico');\n",
    "INSERT INTO Taxonomia VALUES ('Sociedade', 'Acadêmico');\n",
    "INSERT INTO Taxonomia VALUES ('Rede Social', 'Relacionamento');\n",
    "INSERT INTO Taxonomia VALUES ('Marketplace', 'Vendas');\n",
    "INSERT INTO Taxonomia VALUES ('Loja', 'Vendas');\n",
    "INSERT INTO Taxonomia VALUES ('Notícias', 'Portal');\n",
    "INSERT INTO Taxonomia VALUES ('Agregador', 'Portal');\n",
    "\n",
    "INSERT INTO Marcadores VALUES ('Terra', 'http://www.terra.com.br', 295, 'Portal');\n",
    "INSERT INTO Marcadores VALUES ('POVRay', 'http://www.povray.org', 2, 'CG');\n",
    "INSERT INTO Marcadores VALUES ('SBC', 'http://www.sbc.org.br', 26, 'Sociedade');\n",
    "INSERT INTO Marcadores VALUES ('Correios', 'http://www.correios.com.br', 45, 'Serviços');\n",
    "INSERT INTO Marcadores VALUES ('GMail', 'http://www.gmail.com', 296, 'Mail');\n",
    "INSERT INTO Marcadores VALUES ('Google', 'http://www.google.com', 1590, 'Busca');\n",
    "INSERT INTO Marcadores VALUES ('Yahoo', 'http://www.yahoo.com', 134, 'Serviços');\n",
    "INSERT INTO Marcadores VALUES ('Orkut', 'http://www.orkut.com', 45, 'Rede Social');\n",
    "INSERT INTO Marcadores VALUES ('iBahia', 'http://www.ibahia.com', 3, 'Portal');\n",
    "INSERT INTO Marcadores VALUES ('Submarino', 'http://www.submarino.com.br', 320, 'Loja');\n",
    "INSERT INTO Marcadores VALUES ('Amazon', 'https://www.amazon.com.br', 410, 'Marketplace');\n",
    "INSERT INTO Marcadores VALUES ('Americanas', 'https://www.americanas.com.br', 320, 'Loja');\n",
    "INSERT INTO Marcadores VALUES ('Mercado Livre', 'https://www.mercadolivre.com.br', 500, 'Marketplace');\n",
    "INSERT INTO Marcadores VALUES ('G1', 'https://g1.globo.com', 1200, 'Notícias');\n",
    "INSERT INTO Marcadores VALUES ('Folha', 'https://www.folha.uol.com.br', 850, 'Notícias');\n",
    "INSERT INTO Marcadores VALUES ('Google News', 'https://news.google.com', 900, 'Agregador');\n",
    "INSERT INTO Marcadores VALUES ('Flipboard', 'https://flipboard.com', 950, 'Agregador');"
   ]
  },
  {
   "cell_type": "code",
   "execution_count": 149,
   "id": "5c6d6bd8",
   "metadata": {},
   "outputs": [
    {
     "data": {
      "application/vnd.jupyter.widget-view+json": {
       "model_id": "6ae861c7-5be7-424c-81a8-0962933fd360",
       "version_major": 2,
       "version_minor": 0
      },
      "method": "display_data"
     },
     "metadata": {},
     "output_type": "display_data"
    }
   ],
   "source": [
    "SELECT * FROM Taxonomia;"
   ]
  },
  {
   "cell_type": "code",
   "execution_count": 150,
   "id": "e2372da6",
   "metadata": {},
   "outputs": [
    {
     "data": {
      "application/vnd.jupyter.widget-view+json": {
       "model_id": "65ab1758-d7be-448a-8792-febf1ba38ea4",
       "version_major": 2,
       "version_minor": 0
      },
      "method": "display_data"
     },
     "metadata": {},
     "output_type": "display_data"
    }
   ],
   "source": [
    "SELECT * FROM Marcadores;"
   ]
  },
  {
   "cell_type": "markdown",
   "id": "18ccc3c0",
   "metadata": {},
   "source": [
    "### 1) Escreva em SQL uma consulta que retorne os marcadores da categoria Serviços, sem considerar as categorias subordinadas."
   ]
  },
  {
   "cell_type": "code",
   "execution_count": 161,
   "id": "e3e9e2c4",
   "metadata": {},
   "outputs": [
    {
     "data": {
      "application/vnd.jupyter.widget-view+json": {
       "model_id": "2f1a1661-392d-46de-ad0a-a2cb2a653ef8",
       "version_major": 2,
       "version_minor": 0
      },
      "method": "display_data"
     },
     "metadata": {},
     "output_type": "display_data"
    }
   ],
   "source": [
    "SELECT *\n",
    "FROM Marcadores\n",
    "WHERE categoria = 'Serviços';"
   ]
  },
  {
   "cell_type": "markdown",
   "id": "10447db7",
   "metadata": {},
   "source": [
    "### 2) Escreva em SQL uma consulta que retorne os marcadores da categoria Serviços, considerando as categorias subordinadas."
   ]
  },
  {
   "cell_type": "code",
   "execution_count": 153,
   "id": "a512d017",
   "metadata": {},
   "outputs": [],
   "source": [
    "DROP TABLE IF EXISTS View6;\n",
    "DROP TABLE IF EXISTS View7;"
   ]
  },
  {
   "cell_type": "code",
   "execution_count": 155,
   "id": "b9450313",
   "metadata": {},
   "outputs": [],
   "source": [
    "CREATE TABLE View6 AS\n",
    "SELECT M.titulo, M.endereco, M.acessos, M.categoria, T.superior\n",
    "FROM Taxonomia T, Marcadores M\n",
    "WHERE T.categoria = M.categoria;"
   ]
  },
  {
   "cell_type": "code",
   "execution_count": 159,
   "id": "41af5a67",
   "metadata": {},
   "outputs": [],
   "source": [
    "CREATE TABLE View7 AS\n",
    "SELECT V.titulo, V.endereco, V.acessos, V.categoria, V.superior, T.superior as supersuperior\n",
    "FROM View6 V, Taxonomia T\n",
    "WHERE V.superior = T.categoria;"
   ]
  },
  {
   "cell_type": "code",
   "execution_count": 160,
   "id": "70aae093",
   "metadata": {},
   "outputs": [
    {
     "data": {
      "application/vnd.jupyter.widget-view+json": {
       "model_id": "a117b5af-bbf2-4255-a6a7-bdd1f82860f1",
       "version_major": 2,
       "version_minor": 0
      },
      "method": "display_data"
     },
     "metadata": {},
     "output_type": "display_data"
    }
   ],
   "source": [
    "SELECT * FROM View7;"
   ]
  },
  {
   "cell_type": "code",
   "execution_count": 162,
   "id": "6dc2e9b9",
   "metadata": {},
   "outputs": [
    {
     "data": {
      "application/vnd.jupyter.widget-view+json": {
       "model_id": "78b4e6aa-dba2-48d1-a25c-148d8cee3efa",
       "version_major": 2,
       "version_minor": 0
      },
      "method": "display_data"
     },
     "metadata": {},
     "output_type": "display_data"
    }
   ],
   "source": [
    "SELECT *\n",
    "FROM View7\n",
    "WHERE categoria = 'Serviços'\n",
    "OR superior = 'Serviços'\n",
    "OR supersuperior = 'Serviços';"
   ]
  }
 ],
 "metadata": {
  "kernelspec": {
   "display_name": "SQL",
   "language": "SQL",
   "name": "sql"
  },
  "language_info": {
   "codemirror_mode": "sql",
   "file_extension": ".sql",
   "mimetype": "",
   "name": "SQL",
   "nbconverter_exporter": "",
   "version": ""
  },
  "toc": {
   "base_numbering": 1,
   "nav_menu": {},
   "number_sections": false,
   "sideBar": false,
   "skip_h1_title": false,
   "title_cell": "Table of Contents",
   "title_sidebar": "Contents",
   "toc_cell": false,
   "toc_position": {},
   "toc_section_display": false,
   "toc_window_display": false
  }
 },
 "nbformat": 4,
 "nbformat_minor": 5
}
