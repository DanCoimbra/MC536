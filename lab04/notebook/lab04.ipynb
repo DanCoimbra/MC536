{
 "cells": [
  {
   "cell_type": "markdown",
   "id": "0703ae59",
   "metadata": {},
   "source": [
    "# Setup"
   ]
  },
  {
   "cell_type": "code",
   "execution_count": 1,
   "id": "7d5b9fc1",
   "metadata": {},
   "outputs": [],
   "source": [
    "%defaultDatasource jdbc:h2:mem:db"
   ]
  },
  {
   "cell_type": "code",
   "execution_count": 2,
   "id": "0ab2deba",
   "metadata": {},
   "outputs": [],
   "source": [
    "DROP Table IF EXISTS Person;\n",
    "DROP Table IF EXISTS Drug;\n",
    "DROP Table IF EXISTS DrugUse;"
   ]
  },
  {
   "cell_type": "code",
   "execution_count": 3,
   "id": "46b87c01",
   "metadata": {},
   "outputs": [],
   "source": [
    "CREATE TABLE Person (\n",
    "  Id VARCHAR(5) NOT NULL,\n",
    "  Gender INTEGER,\n",
    "  Age INTEGER,\n",
    "  PRIMARY KEY(Id)\n",
    ") AS SELECT\n",
    "    id,\n",
    "    gender,\n",
    "    age\n",
    "FROM CSVREAD('../data/demographic-person.csv');\n",
    "\n",
    "CREATE TABLE Drug (\n",
    "  Code VARCHAR(6) NOT NULL,\n",
    "  Name VARCHAR(100) NOT NULL,\n",
    "  PRIMARY KEY(Code)\n",
    ") AS SELECT\n",
    "    code,\n",
    "    name\n",
    "FROM CSVREAD('../data/medications-drug.csv');\n",
    "\n",
    "CREATE TABLE DrugUse (\n",
    "  PersonId VARCHAR(5) NOT NULL,\n",
    "  DrugCode VARCHAR(6) NOT NULL,\n",
    "  DaysUse INTEGER,\n",
    "  FOREIGN KEY(PersonId)\n",
    "    REFERENCES Person(Id)\n",
    "      ON DELETE NO ACTION\n",
    "      ON UPDATE NO ACTION,\n",
    "  FOREIGN KEY(DrugCode)\n",
    "    REFERENCES Drug(Code)\n",
    "      ON DELETE NO ACTION\n",
    "      ON UPDATE NO ACTION\n",
    ") AS SELECT\n",
    "    person_id,\n",
    "    drug_code,\n",
    "    days_use\n",
    "FROM CSVREAD('../data/medications-use.csv');"
   ]
  },
  {
   "cell_type": "code",
   "execution_count": 4,
   "id": "c3c99133",
   "metadata": {},
   "outputs": [
    {
     "data": {
      "application/vnd.jupyter.widget-view+json": {
       "model_id": "71ca7e3d-1d65-4897-95c9-dd6ccee29df4",
       "version_major": 2,
       "version_minor": 0
      },
      "method": "display_data"
     },
     "metadata": {},
     "output_type": "display_data"
    }
   ],
   "source": [
    "SELECT * FROM Person"
   ]
  },
  {
   "cell_type": "code",
   "execution_count": 5,
   "id": "3afb6c3f",
   "metadata": {},
   "outputs": [
    {
     "data": {
      "application/vnd.jupyter.widget-view+json": {
       "model_id": "d16f96b9-7fc0-4c5b-bcb6-379d5a6644b3",
       "version_major": 2,
       "version_minor": 0
      },
      "method": "display_data"
     },
     "metadata": {},
     "output_type": "display_data"
    }
   ],
   "source": [
    "SELECT * FROM Drug"
   ]
  },
  {
   "cell_type": "code",
   "execution_count": 6,
   "id": "86e57227",
   "metadata": {},
   "outputs": [
    {
     "data": {
      "application/vnd.jupyter.widget-view+json": {
       "model_id": "ab31878e-ecab-4bda-8474-c3f5a5b65f60",
       "version_major": 2,
       "version_minor": 0
      },
      "method": "display_data"
     },
     "metadata": {},
     "output_type": "display_data"
    }
   ],
   "source": [
    "SELECT * FROM DrugUse"
   ]
  },
  {
   "cell_type": "markdown",
   "id": "e7b5473d",
   "metadata": {},
   "source": [
    "# I. Análise do comportamento estatístico"
   ]
  },
  {
   "cell_type": "markdown",
   "id": "53cb6338",
   "metadata": {},
   "source": [
    "### 1) Liste o nome de todos os medicamentos e a quantidade de pessoas que usa cada um deles."
   ]
  },
  {
   "cell_type": "code",
   "execution_count": 7,
   "id": "a26e1407",
   "metadata": {},
   "outputs": [],
   "source": [
    "DROP TABLE IF EXISTS View1;\n",
    "DROP TABLE IF EXISTS View2;"
   ]
  },
  {
   "cell_type": "code",
   "execution_count": 8,
   "id": "dc95ff73",
   "metadata": {},
   "outputs": [],
   "source": [
    "CREATE VIEW View1 AS\n",
    "SELECT Drug.name, Drug.code\n",
    "FROM Drug, DrugUse\n",
    "WHERE Drug.code = DrugUse.drugcode;"
   ]
  },
  {
   "cell_type": "code",
   "execution_count": 9,
   "id": "ebe43ce8",
   "metadata": {},
   "outputs": [],
   "source": [
    "CREATE VIEW View2 AS\n",
    "SELECT code, name, COUNT(name) as quantity\n",
    "FROM View1\n",
    "GROUP BY name\n",
    "ORDER BY quantity DESC, name;"
   ]
  },
  {
   "cell_type": "code",
   "execution_count": 10,
   "id": "3a27081c",
   "metadata": {},
   "outputs": [
    {
     "data": {
      "application/vnd.jupyter.widget-view+json": {
       "model_id": "e2238ded-9c57-42db-8212-b5932e30f44d",
       "version_major": 2,
       "version_minor": 0
      },
      "method": "display_data"
     },
     "metadata": {},
     "output_type": "display_data"
    }
   ],
   "source": [
    "SELECT name, quantity FROM View2;"
   ]
  },
  {
   "cell_type": "markdown",
   "id": "de50f70a",
   "metadata": {},
   "source": [
    "### 2) Informe o código do medicamento mais usado: fazendo uso de VIEW."
   ]
  },
  {
   "cell_type": "code",
   "execution_count": 11,
   "id": "a49ce30e",
   "metadata": {},
   "outputs": [
    {
     "data": {
      "text/plain": [
       "d00732"
      ]
     },
     "execution_count": 11,
     "metadata": {},
     "output_type": "execute_result"
    }
   ],
   "source": [
    "SELECT code\n",
    "FROM (\n",
    "    SELECT TOP 1 *\n",
    "    FROM View2\n",
    "    ) Table1;"
   ]
  },
  {
   "cell_type": "markdown",
   "id": "6a9fa626",
   "metadata": {},
   "source": [
    "### 3) Informe o código do medicamento mais usado: sem fazer uso de VIEW."
   ]
  },
  {
   "cell_type": "code",
   "execution_count": 12,
   "id": "1795c442",
   "metadata": {},
   "outputs": [
    {
     "data": {
      "text/plain": [
       "d00732"
      ]
     },
     "execution_count": 12,
     "metadata": {},
     "output_type": "execute_result"
    }
   ],
   "source": [
    "SELECT code\n",
    "FROM (\n",
    "    SELECT Table1.code, COUNT(Table1.code) as quantity\n",
    "    FROM (\n",
    "        SELECT Drug.name, Drug.code\n",
    "        FROM Drug, DrugUse\n",
    "        WHERE Drug.code = DrugUse.drugcode\n",
    "        ) Table1\n",
    "    GROUP BY Table1.name\n",
    "    ORDER BY quantity DESC\n",
    "    LIMIT 1\n",
    "    ) Table2;"
   ]
  },
  {
   "cell_type": "markdown",
   "id": "b61e8d7d",
   "metadata": {},
   "source": [
    "### 4) Informe o nome do medicamento mais usado (uso de VIEW é opcional).\n",
    "\n",
    "##### NOTA: Selecionei os Top 2 porque visualizações de linha única parecem estar com problemas no BickerX."
   ]
  },
  {
   "cell_type": "code",
   "execution_count": 13,
   "id": "54d29714",
   "metadata": {},
   "outputs": [
    {
     "data": {
      "text/plain": [
       "LISINOPRIL"
      ]
     },
     "execution_count": 13,
     "metadata": {},
     "output_type": "execute_result"
    }
   ],
   "source": [
    "SELECT name\n",
    "FROM (\n",
    "    SELECT TOP 1 *\n",
    "    FROM View2\n",
    "    ) Table1;"
   ]
  },
  {
   "cell_type": "markdown",
   "id": "b54f10f0",
   "metadata": {},
   "source": [
    "### 5) Informe o número médio de uso de medicamento por pessoa.\n",
    "\n",
    "##### Nota: O número real é 14016 / 4033 ≅ 3.47. Abaixo tem-se o valor arredondado obtido pela função AVG, ou seja, 3."
   ]
  },
  {
   "cell_type": "code",
   "execution_count": 14,
   "id": "6fc49ca8",
   "metadata": {},
   "outputs": [],
   "source": [
    "DROP TABLE IF EXISTS View3;"
   ]
  },
  {
   "cell_type": "code",
   "execution_count": 15,
   "id": "e76eddc9",
   "metadata": {},
   "outputs": [],
   "source": [
    "CREATE VIEW View3 AS\n",
    "SELECT personid, COUNT(personid) as quantity\n",
    "FROM DrugUse\n",
    "GROUP BY personid;"
   ]
  },
  {
   "cell_type": "code",
   "execution_count": 16,
   "id": "42603148",
   "metadata": {},
   "outputs": [
    {
     "data": {
      "text/plain": [
       "14016"
      ]
     },
     "execution_count": 16,
     "metadata": {},
     "output_type": "execute_result"
    }
   ],
   "source": [
    "SELECT SUM(quantity) FROM View3;"
   ]
  },
  {
   "cell_type": "code",
   "execution_count": 17,
   "id": "06ea0d4e",
   "metadata": {},
   "outputs": [
    {
     "data": {
      "text/plain": [
       "4033"
      ]
     },
     "execution_count": 17,
     "metadata": {},
     "output_type": "execute_result"
    }
   ],
   "source": [
    "SELECT COUNT(*) FROM View3;"
   ]
  },
  {
   "cell_type": "code",
   "execution_count": 18,
   "id": "91128d47",
   "metadata": {},
   "outputs": [
    {
     "data": {
      "text/plain": [
       "3"
      ]
     },
     "execution_count": 18,
     "metadata": {},
     "output_type": "execute_result"
    }
   ],
   "source": [
    "SELECT AVG(quantity)\n",
    "FROM View3;"
   ]
  },
  {
   "cell_type": "markdown",
   "id": "b2cccee8",
   "metadata": {},
   "source": [
    "### 6) Liste o id das pessoas que usam mais medicamentos do que a média."
   ]
  },
  {
   "cell_type": "code",
   "execution_count": 19,
   "id": "f96a2124",
   "metadata": {},
   "outputs": [
    {
     "data": {
      "application/vnd.jupyter.widget-view+json": {
       "model_id": "0a0c1ce7-78da-4228-ae18-3316302e0438",
       "version_major": 2,
       "version_minor": 0
      },
      "method": "display_data"
     },
     "metadata": {},
     "output_type": "display_data"
    }
   ],
   "source": [
    "SELECT personid\n",
    "FROM View3\n",
    "WHERE quantity > (\n",
    "    SELECT AVG(quantity)\n",
    "    FROM View3\n",
    "    );"
   ]
  },
  {
   "cell_type": "markdown",
   "id": "fd6a9f4e",
   "metadata": {},
   "source": [
    "### 7) Considere que um médico quer fazer responder a seguinte questão: pessoas tendem a usar mais medicamentos conforme ficam mais velhas? Escreva uma query que ajude o médico a realizar esta análise."
   ]
  },
  {
   "cell_type": "code",
   "execution_count": 20,
   "id": "19bae6e5",
   "metadata": {},
   "outputs": [],
   "source": [
    "DROP TABLE IF EXISTS View4;\n",
    "DROP TABLE IF EXISTS View5;"
   ]
  },
  {
   "cell_type": "code",
   "execution_count": 21,
   "id": "dad54884",
   "metadata": {},
   "outputs": [],
   "source": [
    "CREATE TABLE View4 AS\n",
    "SELECT Person.Age\n",
    "FROM Person, DrugUse\n",
    "WHERE Person.id = DrugUse.personid;"
   ]
  },
  {
   "cell_type": "code",
   "execution_count": 22,
   "id": "b7ed3758",
   "metadata": {},
   "outputs": [],
   "source": [
    "CREATE TABLE View5 AS\n",
    "SELECT age, COUNT(age) as quantity\n",
    "FROM View4\n",
    "GROUP BY age\n",
    "ORDER BY age DESC;"
   ]
  },
  {
   "cell_type": "code",
   "execution_count": 23,
   "id": "4fb6b5d2",
   "metadata": {},
   "outputs": [
    {
     "data": {
      "application/vnd.jupyter.widget-view+json": {
       "model_id": "d5218e77-1fb0-420b-9ab2-2784751a04cd",
       "version_major": 2,
       "version_minor": 0
      },
      "method": "display_data"
     },
     "metadata": {},
     "output_type": "display_data"
    }
   ],
   "source": [
    "SELECT * FROM View5;"
   ]
  },
  {
   "cell_type": "code",
   "execution_count": 24,
   "id": "8a0c0f5d",
   "metadata": {},
   "outputs": [
    {
     "data": {
      "text/plain": [
       "358"
      ]
     },
     "execution_count": 24,
     "metadata": {},
     "output_type": "execute_result"
    }
   ],
   "source": [
    "SELECT AVG(quantity)\n",
    "FROM View5\n",
    "WHERE age BETWEEN 60 AND 80"
   ]
  },
  {
   "cell_type": "code",
   "execution_count": 25,
   "id": "b6360825",
   "metadata": {},
   "outputs": [
    {
     "data": {
      "text/plain": [
       "196"
      ]
     },
     "execution_count": 25,
     "metadata": {},
     "output_type": "execute_result"
    }
   ],
   "source": [
    "SELECT AVG(quantity)\n",
    "FROM View5\n",
    "WHERE age BETWEEN 40 AND 59"
   ]
  },
  {
   "cell_type": "code",
   "execution_count": 26,
   "id": "4de7ea1f",
   "metadata": {},
   "outputs": [
    {
     "data": {
      "text/plain": [
       "63"
      ]
     },
     "execution_count": 26,
     "metadata": {},
     "output_type": "execute_result"
    }
   ],
   "source": [
    "SELECT AVG(quantity)\n",
    "FROM View5\n",
    "WHERE age BETWEEN 20 AND 39"
   ]
  },
  {
   "cell_type": "code",
   "execution_count": 27,
   "id": "69e6ec91",
   "metadata": {},
   "outputs": [
    {
     "data": {
      "text/plain": [
       "66"
      ]
     },
     "execution_count": 27,
     "metadata": {},
     "output_type": "execute_result"
    }
   ],
   "source": [
    "SELECT AVG(quantity)\n",
    "FROM View5\n",
    "WHERE age BETWEEN 0 AND 19"
   ]
  },
  {
   "cell_type": "markdown",
   "id": "85d442c3",
   "metadata": {},
   "source": [
    "# II. Navegando por Hierarquias"
   ]
  },
  {
   "cell_type": "code",
   "execution_count": 28,
   "id": "a1e86d40",
   "metadata": {},
   "outputs": [],
   "source": [
    "DROP TABLE IF EXISTS Taxonomia;\n",
    "DROP TABLE IF EXISTS Marcadores;"
   ]
  },
  {
   "cell_type": "code",
   "execution_count": 29,
   "id": "a54ea74c",
   "metadata": {},
   "outputs": [],
   "source": [
    "CREATE TABLE Taxonomia (\n",
    "  Categoria VARCHAR(50) NOT NULL,\n",
    "  Superior  VARCHAR(50),\n",
    "  PRIMARY KEY(Categoria),\n",
    "  FOREIGN KEY(Superior)\n",
    "    REFERENCES Taxonomia(Categoria)\n",
    "      ON DELETE NO ACTION\n",
    "      ON UPDATE CASCADE\n",
    ");\n",
    "\n",
    "CREATE TABLE Marcadores (\n",
    "  Titulo VARCHAR(50) NOT NULL,\n",
    "  Endereco VARCHAR(80) NOT NULL,\n",
    "  Acessos INTEGER,\n",
    "  Categoria VARCHAR(50) NOT NULL,\n",
    "  PRIMARY KEY(Titulo),\n",
    "  FOREIGN KEY(Categoria)\n",
    "    REFERENCES Taxonomia(Categoria)\n",
    "      ON DELETE NO ACTION\n",
    "      ON UPDATE CASCADE\n",
    ");"
   ]
  },
  {
   "cell_type": "code",
   "execution_count": 30,
   "id": "8f16196f",
   "metadata": {},
   "outputs": [],
   "source": [
    "INSERT INTO Taxonomia VALUES ('Geral', NULL);\n",
    "INSERT INTO Taxonomia VALUES ('Serviços', 'Geral');\n",
    "INSERT INTO Taxonomia VALUES ('Acadêmico', 'Geral');\n",
    "INSERT INTO Taxonomia VALUES ('Relacionamento', 'Geral');\n",
    "INSERT INTO Taxonomia VALUES ('Busca', 'Serviços');\n",
    "INSERT INTO Taxonomia VALUES ('Portal', 'Serviços');\n",
    "INSERT INTO Taxonomia VALUES ('Mail', 'Serviços');\n",
    "INSERT INTO Taxonomia VALUES ('Vendas', 'Serviços');\n",
    "INSERT INTO Taxonomia VALUES ('Universidade', 'Acadêmico');\n",
    "INSERT INTO Taxonomia VALUES ('CG', 'Acadêmico');\n",
    "INSERT INTO Taxonomia VALUES ('Sociedade', 'Acadêmico');\n",
    "INSERT INTO Taxonomia VALUES ('Rede Social', 'Relacionamento');\n",
    "INSERT INTO Taxonomia VALUES ('Marketplace', 'Vendas');\n",
    "INSERT INTO Taxonomia VALUES ('Loja', 'Vendas');\n",
    "INSERT INTO Taxonomia VALUES ('Notícias', 'Portal');\n",
    "INSERT INTO Taxonomia VALUES ('Agregador', 'Portal');\n",
    "\n",
    "INSERT INTO Marcadores VALUES ('Terra', 'http://www.terra.com.br', 295, 'Portal');\n",
    "INSERT INTO Marcadores VALUES ('POVRay', 'http://www.povray.org', 2, 'CG');\n",
    "INSERT INTO Marcadores VALUES ('SBC', 'http://www.sbc.org.br', 26, 'Sociedade');\n",
    "INSERT INTO Marcadores VALUES ('Correios', 'http://www.correios.com.br', 45, 'Serviços');\n",
    "INSERT INTO Marcadores VALUES ('GMail', 'http://www.gmail.com', 296, 'Mail');\n",
    "INSERT INTO Marcadores VALUES ('Google', 'http://www.google.com', 1590, 'Busca');\n",
    "INSERT INTO Marcadores VALUES ('Yahoo', 'http://www.yahoo.com', 134, 'Serviços');\n",
    "INSERT INTO Marcadores VALUES ('Orkut', 'http://www.orkut.com', 45, 'Rede Social');\n",
    "INSERT INTO Marcadores VALUES ('iBahia', 'http://www.ibahia.com', 3, 'Portal');\n",
    "INSERT INTO Marcadores VALUES ('Submarino', 'http://www.submarino.com.br', 320, 'Loja');\n",
    "INSERT INTO Marcadores VALUES ('Amazon', 'https://www.amazon.com.br', 410, 'Marketplace');\n",
    "INSERT INTO Marcadores VALUES ('Americanas', 'https://www.americanas.com.br', 320, 'Loja');\n",
    "INSERT INTO Marcadores VALUES ('Mercado Livre', 'https://www.mercadolivre.com.br', 500, 'Marketplace');\n",
    "INSERT INTO Marcadores VALUES ('G1', 'https://g1.globo.com', 1200, 'Notícias');\n",
    "INSERT INTO Marcadores VALUES ('Folha', 'https://www.folha.uol.com.br', 850, 'Notícias');\n",
    "INSERT INTO Marcadores VALUES ('Google News', 'https://news.google.com', 900, 'Agregador');\n",
    "INSERT INTO Marcadores VALUES ('Flipboard', 'https://flipboard.com', 950, 'Agregador');"
   ]
  },
  {
   "cell_type": "code",
   "execution_count": 31,
   "id": "5c6d6bd8",
   "metadata": {},
   "outputs": [
    {
     "data": {
      "application/vnd.jupyter.widget-view+json": {
       "model_id": "6cf1dccd-dcb5-41d8-9328-df8ac96611df",
       "version_major": 2,
       "version_minor": 0
      },
      "method": "display_data"
     },
     "metadata": {},
     "output_type": "display_data"
    }
   ],
   "source": [
    "SELECT * FROM Taxonomia;"
   ]
  },
  {
   "cell_type": "code",
   "execution_count": 32,
   "id": "e2372da6",
   "metadata": {},
   "outputs": [
    {
     "data": {
      "application/vnd.jupyter.widget-view+json": {
       "model_id": "777ae45f-3102-429e-9542-5996361e5138",
       "version_major": 2,
       "version_minor": 0
      },
      "method": "display_data"
     },
     "metadata": {},
     "output_type": "display_data"
    }
   ],
   "source": [
    "SELECT * FROM Marcadores;"
   ]
  },
  {
   "cell_type": "markdown",
   "id": "18ccc3c0",
   "metadata": {},
   "source": [
    "### 1) Escreva em SQL uma consulta que retorne os marcadores da categoria Serviços, sem considerar as categorias subordinadas."
   ]
  },
  {
   "cell_type": "code",
   "execution_count": 33,
   "id": "e3e9e2c4",
   "metadata": {},
   "outputs": [
    {
     "data": {
      "application/vnd.jupyter.widget-view+json": {
       "model_id": "f769ea69-0052-4fde-b8d7-003c976c911e",
       "version_major": 2,
       "version_minor": 0
      },
      "method": "display_data"
     },
     "metadata": {},
     "output_type": "display_data"
    }
   ],
   "source": [
    "SELECT *\n",
    "FROM Marcadores\n",
    "WHERE categoria = 'Serviços';"
   ]
  },
  {
   "cell_type": "markdown",
   "id": "10447db7",
   "metadata": {},
   "source": [
    "### 2) Escreva em SQL uma consulta que retorne os marcadores da categoria Serviços, considerando as categorias subordinadas."
   ]
  },
  {
   "cell_type": "code",
   "execution_count": 34,
   "id": "a512d017",
   "metadata": {},
   "outputs": [],
   "source": [
    "DROP TABLE IF EXISTS View6;\n",
    "DROP TABLE IF EXISTS View7;"
   ]
  },
  {
   "cell_type": "code",
   "execution_count": 35,
   "id": "b9450313",
   "metadata": {},
   "outputs": [],
   "source": [
    "CREATE TABLE View6 AS\n",
    "SELECT M.titulo, M.endereco, M.acessos, M.categoria, T.superior\n",
    "FROM Taxonomia T, Marcadores M\n",
    "WHERE T.categoria = M.categoria;"
   ]
  },
  {
   "cell_type": "code",
   "execution_count": 36,
   "id": "41af5a67",
   "metadata": {},
   "outputs": [],
   "source": [
    "CREATE TABLE View7 AS\n",
    "SELECT V.titulo, V.endereco, V.acessos, V.categoria, V.superior, T.superior as supersuperior\n",
    "FROM View6 V, Taxonomia T\n",
    "WHERE V.superior = T.categoria;"
   ]
  },
  {
   "cell_type": "code",
   "execution_count": 37,
   "id": "70aae093",
   "metadata": {},
   "outputs": [
    {
     "data": {
      "application/vnd.jupyter.widget-view+json": {
       "model_id": "f8ac0716-bfbe-418e-91e2-804fd9990512",
       "version_major": 2,
       "version_minor": 0
      },
      "method": "display_data"
     },
     "metadata": {},
     "output_type": "display_data"
    }
   ],
   "source": [
    "SELECT * FROM View7;"
   ]
  },
  {
   "cell_type": "code",
   "execution_count": 38,
   "id": "6dc2e9b9",
   "metadata": {},
   "outputs": [
    {
     "data": {
      "application/vnd.jupyter.widget-view+json": {
       "model_id": "eccb74d4-90a5-42a0-afa3-fa6ecbe7d595",
       "version_major": 2,
       "version_minor": 0
      },
      "method": "display_data"
     },
     "metadata": {},
     "output_type": "display_data"
    }
   ],
   "source": [
    "SELECT *\n",
    "FROM View7\n",
    "WHERE categoria = 'Serviços'\n",
    "OR superior = 'Serviços'\n",
    "OR supersuperior = 'Serviços';"
   ]
  }
 ],
 "metadata": {
  "kernelspec": {
   "display_name": "SQL",
   "language": "SQL",
   "name": "sql"
  },
  "language_info": {
   "codemirror_mode": "sql",
   "file_extension": ".sql",
   "mimetype": "",
   "name": "SQL",
   "nbconverter_exporter": "",
   "version": ""
  },
  "toc": {
   "base_numbering": 1,
   "nav_menu": {},
   "number_sections": false,
   "sideBar": false,
   "skip_h1_title": false,
   "title_cell": "Table of Contents",
   "title_sidebar": "Contents",
   "toc_cell": false,
   "toc_position": {},
   "toc_section_display": false,
   "toc_window_display": false
  }
 },
 "nbformat": 4,
 "nbformat_minor": 5
}
