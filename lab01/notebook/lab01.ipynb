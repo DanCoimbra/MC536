{
 "cells": [
  {
   "cell_type": "markdown",
   "id": "42823f3d",
   "metadata": {},
   "source": [
    "# Lab 01 – Parte 1\n",
    "\n",
    "## Bibliotecas necessárias"
   ]
  },
  {
   "cell_type": "code",
   "execution_count": 1,
   "id": "c970409a",
   "metadata": {},
   "outputs": [],
   "source": [
    "import requests\n",
    "import json\n",
    "import xml.etree.ElementTree as ET\n",
    "from io import StringIO"
   ]
  },
  {
   "cell_type": "markdown",
   "id": "f0d87d67",
   "metadata": {},
   "source": [
    "## Aquisição via API de um dataset JSON\n",
    "\n",
    "#### Obtém-se um objeto requests.Requests, com um conteúdo serializado comprimido em binário. É possível obter a string serializada por meio da função nativa decode(). Essa string codifica um objeto JSON, que pode ser dela obtido por meio da função json.loads() no formato de um dicionário."
   ]
  },
  {
   "cell_type": "code",
   "execution_count": 2,
   "id": "638abc75",
   "metadata": {},
   "outputs": [],
   "source": [
    "pokeapi_requests_object = requests.get(\"https://pokeapi.co/api/v2/pokemon/pikachu\")"
   ]
  },
  {
   "cell_type": "code",
   "execution_count": 3,
   "id": "931fa626",
   "metadata": {},
   "outputs": [
    {
     "name": "stdout",
     "output_type": "stream",
     "text": [
      "<class 'dict'>\n"
     ]
    }
   ],
   "source": [
    "pokeapi_binary_content = pokeapi_requests_object.content\n",
    "pokeapi_string_content = pokeapi_binary_content.decode()\n",
    "pokeapi_json_content = json.loads(pokeapi_string_content)\n",
    "print(type(pokeapi_json_content))"
   ]
  },
  {
   "cell_type": "markdown",
   "id": "92cf02d0",
   "metadata": {},
   "source": [
    "## Aquisição via API de um dataset XML\n",
    "\n",
    "#### Obtém-se um objeto requests.Requests, com um conteúdo serializado comprimido em binário. É possível obter a string serializada por meio da função nativa decode(). Essa string codifica um objeto XML. Todavia, por alguma razão, é preciso convertê-la em um objeto \"file\" por meio da classe io.StringIO(), para então ler esse objeto via a função xml.etree.ElementTree.parse() e obter um objeto XML no formato de uma árvore ElementTree."
   ]
  },
  {
   "cell_type": "code",
   "execution_count": 4,
   "id": "7a87db29",
   "metadata": {},
   "outputs": [],
   "source": [
    "worldbank_requests_object = requests.get(\"http://api.worldbank.org/v2/country/all/indicator/SP.POP.TOTL\")"
   ]
  },
  {
   "cell_type": "code",
   "execution_count": 5,
   "id": "c976972a",
   "metadata": {},
   "outputs": [
    {
     "name": "stdout",
     "output_type": "stream",
     "text": [
      "<class 'xml.etree.ElementTree.ElementTree'>\n"
     ]
    }
   ],
   "source": [
    "worldbank_binary_content = worldbank_requests_object.content\n",
    "worldbank_string_content = worldbank_binary_content.decode()\n",
    "worldbank_file_object = StringIO(worldbank_string_content)\n",
    "worldbank_xml_content = ET.parse(worldbank_file_object)\n",
    "print(type(worldbank_xml_content))"
   ]
  }
 ],
 "metadata": {
  "kernelspec": {
   "display_name": "Python 3",
   "language": "python",
   "name": "python3"
  },
  "language_info": {
   "codemirror_mode": {
    "name": "ipython",
    "version": 3
   },
   "file_extension": ".py",
   "mimetype": "text/x-python",
   "name": "python",
   "nbconvert_exporter": "python",
   "pygments_lexer": "ipython3",
   "version": "3.8.8"
  }
 },
 "nbformat": 4,
 "nbformat_minor": 5
}
