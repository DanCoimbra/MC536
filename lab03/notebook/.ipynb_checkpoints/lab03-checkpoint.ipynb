{
 "cells": [
  {
   "cell_type": "markdown",
   "id": "fa700558",
   "metadata": {},
   "source": [
    "# Setup"
   ]
  },
  {
   "cell_type": "code",
   "execution_count": 1,
   "id": "b228db76",
   "metadata": {},
   "outputs": [],
   "source": [
    "%defaultDatasource jdbc:h2:mem:db"
   ]
  },
  {
   "cell_type": "markdown",
   "id": "42baa10d",
   "metadata": {},
   "source": [
    "# Tarefa #1: Esquema relacional"
   ]
  },
  {
   "cell_type": "markdown",
   "id": "fe4d9702",
   "metadata": {},
   "source": [
    "demographic-person.csv\n",
    "* __id__\n",
    "* gender\n",
    "* age\n",
    "\n",
    "medications-drug.csv\n",
    "* __code__\n",
    "* name\n",
    "\n",
    "medications-use.csv (possui linhas idênticas)\n",
    "* id (ESTRANGEIRA)\n",
    "* drug_code (ESTRANGEIRA)\n",
    "* days_use"
   ]
  },
  {
   "cell_type": "markdown",
   "id": "1b6673bf",
   "metadata": {},
   "source": [
    "# Tarefa 2: Importação da tabelas"
   ]
  },
  {
   "cell_type": "code",
   "execution_count": 2,
   "id": "09cf98f5",
   "metadata": {},
   "outputs": [],
   "source": [
    "DROP TABLE IF EXISTS Pessoa;\n",
    "DROP TABLE IF EXISTS Medicamento;\n",
    "DROP TABLE IF EXISTS Uso;"
   ]
  },
  {
   "cell_type": "code",
   "execution_count": 3,
   "id": "3c07c0d0",
   "metadata": {},
   "outputs": [],
   "source": [
    "CREATE TABLE Pessoa (\n",
    "  id VARCHAR(5) NOT NULL,\n",
    "  gender INTEGER,\n",
    "  age INTEGER,\n",
    "  PRIMARY KEY(id)\n",
    ") AS SELECT\n",
    "    id,\n",
    "    gender,\n",
    "    age\n",
    "FROM CSVREAD('../data/demographic-person.csv');"
   ]
  },
  {
   "cell_type": "code",
   "execution_count": 4,
   "id": "116bfc9b",
   "metadata": {},
   "outputs": [],
   "source": [
    "CREATE TABLE Medicamento (\n",
    "  code VARCHAR(6) NOT NULL,\n",
    "  name VARCHAR(100) NOT NULL,\n",
    "  PRIMARY KEY(code)\n",
    ") AS SELECT\n",
    "    code,\n",
    "    name\n",
    "FROM CSVREAD('../data/medications-drug.csv');"
   ]
  },
  {
   "cell_type": "code",
   "execution_count": 5,
   "id": "d678175d",
   "metadata": {},
   "outputs": [],
   "source": [
    "CREATE TABLE Uso (\n",
    "  id VARCHAR(5) NOT NULL,\n",
    "  code VARCHAR(6) NOT NULL,\n",
    "  days INTEGER\n",
    ") AS SELECT\n",
    "    person_id,\n",
    "    drug_code,\n",
    "    days_use\n",
    "FROM CSVREAD('../data/medications-use.csv');"
   ]
  },
  {
   "cell_type": "markdown",
   "id": "67159da3",
   "metadata": {},
   "source": [
    "# Tarefa 3: Consultas\n",
    "\n",
    "### a) Liste pessoas com idade acima de 60"
   ]
  },
  {
   "cell_type": "code",
   "execution_count": 6,
   "id": "7bf37411",
   "metadata": {},
   "outputs": [
    {
     "data": {
      "application/vnd.jupyter.widget-view+json": {
       "model_id": "b737fdf7-d4d9-4ede-8ae8-110572e842b3",
       "version_major": 2,
       "version_minor": 0
      },
      "method": "display_data"
     },
     "metadata": {},
     "output_type": "display_data"
    }
   ],
   "source": [
    "SELECT *\n",
    "    FROM Pessoa P\n",
    "    WHERE P.age >= 60;"
   ]
  },
  {
   "cell_type": "markdown",
   "id": "89926689",
   "metadata": {},
   "source": [
    "### b) Liste as idades das pessoas cadastradas (sem repetições)"
   ]
  },
  {
   "cell_type": "code",
   "execution_count": 7,
   "id": "ad90e09c",
   "metadata": {},
   "outputs": [
    {
     "data": {
      "application/vnd.jupyter.widget-view+json": {
       "model_id": "291aeb82-93f2-4b91-afca-4447a3246b78",
       "version_major": 2,
       "version_minor": 0
      },
      "method": "display_data"
     },
     "metadata": {},
     "output_type": "display_data"
    }
   ],
   "source": [
    "SELECT DISTINCT P.age FROM Pessoa P"
   ]
  },
  {
   "cell_type": "markdown",
   "id": "d21caf3f",
   "metadata": {},
   "source": [
    "### c) Liste código das pessoas, idade, código dos medicamentos que usaram e dias de uso"
   ]
  },
  {
   "cell_type": "code",
   "execution_count": 8,
   "id": "b6cec8da",
   "metadata": {},
   "outputs": [
    {
     "data": {
      "application/vnd.jupyter.widget-view+json": {
       "model_id": "3f03a86f-7e73-4193-8e6d-2b559bec0153",
       "version_major": 2,
       "version_minor": 0
      },
      "method": "display_data"
     },
     "metadata": {},
     "output_type": "display_data"
    }
   ],
   "source": [
    "SELECT P.id, P.age, U.code, U.days\n",
    "    FROM Pessoa P, Uso U\n",
    "    WHERE P.id = U.id"
   ]
  },
  {
   "cell_type": "markdown",
   "id": "ae29626d",
   "metadata": {},
   "source": [
    "### d) Liste código das Pessoas, idade, nome dos medicamentos que usaram e quantos dias de uso"
   ]
  },
  {
   "cell_type": "code",
   "execution_count": 9,
   "id": "1488f315",
   "metadata": {},
   "outputs": [
    {
     "data": {
      "application/vnd.jupyter.widget-view+json": {
       "model_id": "cbe278dc-9331-4516-a8f2-41367e8ef9c7",
       "version_major": 2,
       "version_minor": 0
      },
      "method": "display_data"
     },
     "metadata": {},
     "output_type": "display_data"
    }
   ],
   "source": [
    "SELECT P.id, P.age, M.name, U.days\n",
    "    FROM Pessoa P, Uso U, Medicamento M\n",
    "    WHERE P.id = U.id\n",
    "        AND M.code = U.code;"
   ]
  },
  {
   "cell_type": "markdown",
   "id": "70aa1c7e",
   "metadata": {},
   "source": [
    "### e) Liste nome dos medicamentos que foram usados por pessoas (sem repetições)"
   ]
  },
  {
   "cell_type": "code",
   "execution_count": 10,
   "id": "0beedb27",
   "metadata": {},
   "outputs": [
    {
     "data": {
      "application/vnd.jupyter.widget-view+json": {
       "model_id": "52b83310-ac5f-4801-9b8f-cb3e93dc800f",
       "version_major": 2,
       "version_minor": 0
      },
      "method": "display_data"
     },
     "metadata": {},
     "output_type": "display_data"
    }
   ],
   "source": [
    "SELECT DISTINCT M.name\n",
    "    FROM Medicamento M, Uso U\n",
    "    WHERE M.code = U.code\n",
    "    ORDER BY M.name"
   ]
  },
  {
   "cell_type": "markdown",
   "id": "d9e9789b",
   "metadata": {},
   "source": [
    "### f) Liste nome dos medicamentos usados por mais de 2.000 dias (sem repetições)"
   ]
  },
  {
   "cell_type": "code",
   "execution_count": 11,
   "id": "befa478b",
   "metadata": {},
   "outputs": [
    {
     "data": {
      "application/vnd.jupyter.widget-view+json": {
       "model_id": "b1f8f65b-338c-4a72-9fc3-13e2c569452b",
       "version_major": 2,
       "version_minor": 0
      },
      "method": "display_data"
     },
     "metadata": {},
     "output_type": "display_data"
    }
   ],
   "source": [
    "SELECT DISTINCT M.Name\n",
    "    FROM Medicamento M, Uso U\n",
    "    WHERE M.code = U.code\n",
    "        AND U.days >= 2000\n",
    "    ORDER BY M.name"
   ]
  }
 ],
 "metadata": {
  "kernelspec": {
   "display_name": "SQL",
   "language": "SQL",
   "name": "sql"
  },
  "language_info": {
   "codemirror_mode": "sql",
   "file_extension": ".sql",
   "mimetype": "",
   "name": "SQL",
   "nbconverter_exporter": "",
   "version": ""
  },
  "toc": {
   "base_numbering": 1,
   "nav_menu": {},
   "number_sections": false,
   "sideBar": false,
   "skip_h1_title": false,
   "title_cell": "Table of Contents",
   "title_sidebar": "Contents",
   "toc_cell": false,
   "toc_position": {},
   "toc_section_display": false,
   "toc_window_display": false
  }
 },
 "nbformat": 4,
 "nbformat_minor": 5
}
