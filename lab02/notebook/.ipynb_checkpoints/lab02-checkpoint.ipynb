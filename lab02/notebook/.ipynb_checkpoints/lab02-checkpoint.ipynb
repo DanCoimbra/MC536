{
 "cells": [
  {
   "cell_type": "code",
   "execution_count": 1,
   "id": "d675c7d0",
   "metadata": {},
   "outputs": [],
   "source": [
    "import io\n",
    "import requests\n",
    "import json"
   ]
  },
  {
   "cell_type": "markdown",
   "id": "9891c99d",
   "metadata": {},
   "source": [
    "# Tarefa 1"
   ]
  },
  {
   "cell_type": "code",
   "execution_count": 2,
   "id": "c65a7236",
   "metadata": {},
   "outputs": [],
   "source": [
    "URL_DBPedia = \"http://dbpedia.org/data/Tent_of_Miracles_(novel).jsod\"\n",
    "JSON_DBPedia = requests.get(URL_DBPedia).json()"
   ]
  },
  {
   "cell_type": "code",
   "execution_count": 3,
   "id": "9955974b",
   "metadata": {},
   "outputs": [
    {
     "name": "stdout",
     "output_type": "stream",
     "text": [
      "{\n",
      "   \"d\": {\n",
      "      \"results\": [\n",
      "         {\n",
      "            \"__metadata\": {\n",
      "               \"uri\": \"http://dbpedia.org/resource/Tent_of_Miracles_(novel)\"\n",
      "            },\n",
      "            \"http://www.w3.org/2000/01/rdf-schema#label\": \"Tent of Miracles (novel)\",\n",
      "            \"http://dbpedia.org/ontology/wikiPageWikiLink\": {\n",
      "               \"__deferred\": {\n",
      "                  \"uri\": \"http://dbpedia.org/resource/French_New_Wave\"\n",
      "               }\n",
      "            },\n",
      "            \"http://purl.org/dc/terms/subject\": {\n",
      "               \"__deferred\": {\n",
      "                  \"uri\": \"http://dbpedia.org/resource/Category:Modernist_novels\"\n",
      "               }\n",
      "            },\n",
      "            \"http://www.w3.org/1999/02/22-rdf-syntax-ns#type\": {\n",
      "               \"__deferred\": {\n",
      "                  \"uri\": \"http://dbpedia.org/ontology/WrittenWork\"\n",
      "               }\n",
      "            },\n",
      "            \"http://dbpedia.org/property/wikiPageUsesTemplate\": {\n",
      "               \"__deferred\": {\n",
      "                  \"uri\": \"http://dbpedia.org/resource/Template:According_to_whom\"\n",
      "               }\n",
      "            },\n",
      "            \"http://www.w3.org/2000/01/rdf-schema#comment\": \"Tent of Miracles (Portuguese: Tenda dos Milagres) is a Brazilian Modernist novel. It was written by Jorge Amado in 1967 and published the following year. It was later adapted to a 1977 Cinema Novo (Nouvelle Vague) film by director/screenplay writer Nelson Pereira dos Santos.\",\n",
      "            \"http://dbpedia.org/ontology/abstract\": \"La bottega dei miracoli \\u00e8 un romanzo di Jorge Amado pubblicato nel 1960. Come altri romanzi dell&#39;autore (ad esempio Tieta d&#39;Agreste e Teresa Batista) \\u00e8 un testo composito, con un intreccio zigzagante fra analessi e prolessi, con mutamenti di voci narranti ed inserti di materiale eterogeneo.\\u00c8 possibile che l&#39;evento scatenante del racconto (la visita del famoso scienziato) sia stato ispirato dall&#39;esperienza vissuta; in quello stesso 1960, infatti, Jean Paul Sartre e Simone De Beauvoir visitarono il Brasile su invito dello stesso Amado: la visita divenne un evento mediatico, celebrato in numerose manifestazioni istituzionali.\",\n",
      "            \"http://dbpedia.org/property/pubDate\": \"1969\",\n",
      "            \"http://dbpedia.org/property/country\": {\n",
      "               \"__deferred\": {\n",
      "                  \"uri\": \"http://dbpedia.org/resource/Brazil\"\n",
      "               }\n",
      "            },\n",
      "            \"http://www.w3.org/2002/07/owl#sameAs\": {\n",
      "               \"__deferred\": {\n",
      "                  \"uri\": \"http://rdf.freebase.com/ns/m.02xrs4\"\n",
      "               }\n",
      "            },\n",
      "            \"http://dbpedia.org/ontology/wikiPageRevisionID\": \"974212123\",\n",
      "            \"http://dbpedia.org/property/author\": {\n",
      "               \"__deferred\": {\n",
      "                  \"uri\": \"http://dbpedia.org/resource/Jorge_Amado\"\n",
      "               }\n",
      "            },\n",
      "            \"http://dbpedia.org/ontology/author\": {\n",
      "               \"__deferred\": {\n",
      "                  \"uri\": \"http://dbpedia.org/resource/Jorge_Amado\"\n",
      "               }\n",
      "            },\n",
      "            \"http://xmlns.com/foaf/0.1/name\": \"Tenda dos Milagres\",\n",
      "            \"http://dbpedia.org/property/englishPubDate\": \"1971\",\n",
      "            \"http://dbpedia.org/ontology/country\": {\n",
      "               \"__deferred\": {\n",
      "                  \"uri\": \"http://dbpedia.org/resource/Brazil\"\n",
      "               }\n",
      "            },\n",
      "            \"http://dbpedia.org/property/name\": \"Tent of Miracles\",\n",
      "            \"http://purl.org/linguistics/gold/hypernym\": {\n",
      "               \"__deferred\": {\n",
      "                  \"uri\": \"http://dbpedia.org/resource/Novel\"\n",
      "               }\n",
      "            },\n",
      "            \"http://dbpedia.org/property/titleOrig\": \"Tenda dos Milagres\",\n",
      "            \"http://dbpedia.org/ontology/publisher\": {\n",
      "               \"__deferred\": {\n",
      "                  \"uri\": \"http://dbpedia.org/resource/Brazil\"\n",
      "               }\n",
      "            },\n",
      "            \"http://dbpedia.org/ontology/language\": {\n",
      "               \"__deferred\": {\n",
      "                  \"uri\": \"http://dbpedia.org/resource/Portuguese_language\"\n",
      "               }\n",
      "            },\n",
      "            \"http://www.w3.org/ns/prov#wasDerivedFrom\": {\n",
      "               \"__deferred\": {\n",
      "                  \"uri\": \"http://en.wikipedia.org/wiki/Tent_of_Miracles_(novel)?oldid=974212123&ns=0\"\n",
      "               }\n",
      "            },\n",
      "            \"http://dbpedia.org/ontology/wikiPageLength\": \"5253\",\n",
      "            \"http://purl.org/dc/elements/1.1/publisher\": \"Martins, Sao Paulo, Brazil\",\n",
      "            \"http://dbpedia.org/property/language\": {\n",
      "               \"__deferred\": {\n",
      "                  \"uri\": \"http://dbpedia.org/resource/Portuguese_language\"\n",
      "               }\n",
      "            },\n",
      "            \"http://dbpedia.org/ontology/wikiPageID\": \"623351\",\n",
      "            \"http://dbpedia.org/property/publisher\": \"Martins, Sao Paulo, Brazil\",\n",
      "            \"http://dbpedia.org/property/caption\": \"First edition\",\n",
      "            \"http://xmlns.com/foaf/0.1/isPrimaryTopicOf\": {\n",
      "               \"__deferred\": {\n",
      "                  \"uri\": \"http://en.wikipedia.org/wiki/Tent_of_Miracles_(novel)\"\n",
      "               }\n",
      "            }\n",
      "         }\n",
      "      ],\n",
      "      \"__count\": \"1\"\n",
      "   }\n",
      "}\n"
     ]
    }
   ],
   "source": [
    "print(json.dumps(JSON_DBPedia, indent=3))"
   ]
  },
  {
   "cell_type": "markdown",
   "id": "7c9bed83",
   "metadata": {},
   "source": [
    "# Tarefa 2"
   ]
  },
  {
   "cell_type": "code",
   "execution_count": 4,
   "id": "00ecc3ae",
   "metadata": {},
   "outputs": [
    {
     "data": {
      "text/plain": [
       "'Jorge Amado'"
      ]
     },
     "execution_count": 4,
     "metadata": {},
     "output_type": "execute_result"
    }
   ],
   "source": [
    "author = JSON_DBPedia['d']['results'][0]['http://dbpedia.org/property/author']['__deferred']['uri']\n",
    "author.split('/')[-1].replace('_', ' ')"
   ]
  },
  {
   "cell_type": "markdown",
   "id": "1294d8ed",
   "metadata": {},
   "source": [
    "# Tarefa 3"
   ]
  },
  {
   "cell_type": "code",
   "execution_count": 5,
   "id": "54e86423",
   "metadata": {},
   "outputs": [],
   "source": [
    "URL_MeSH_lookup = \"https://id.nlm.nih.gov/mesh/lookup/descriptor?label=Aspirin&match=exact&limit=10\"\n",
    "JSON_MeSH_lookup = requests.get(URL_MeSH_lookup).json()\n",
    "code = JSON_MeSH_lookup[0]['resource'].split('/')[-1]"
   ]
  },
  {
   "cell_type": "code",
   "execution_count": 6,
   "id": "889c698c",
   "metadata": {},
   "outputs": [],
   "source": [
    "URL_MeSH_details = f\"https://id.nlm.nih.gov/mesh/lookup/details?descriptor={code}\"\n",
    "JSON_MeSH_details = requests.get(URL_MeSH_details).json()\n",
    "terms = [term['label'] for term in JSON_MeSH_details['terms']]"
   ]
  },
  {
   "cell_type": "code",
   "execution_count": 7,
   "id": "01b91083",
   "metadata": {},
   "outputs": [
    {
     "name": "stdout",
     "output_type": "stream",
     "text": [
      "2-(Acetyloxy)benzoic Acid\n",
      "Acetylsalicylic Acid\n",
      "Acetysal\n",
      "Acylpyrin\n",
      "Aloxiprimum\n",
      "Colfarit\n",
      "Dispril\n",
      "Easprin\n",
      "Ecotrin\n",
      "Endosprin\n",
      "Magnecyl\n",
      "Micristin\n",
      "Polopirin\n",
      "Polopiryna\n",
      "Solprin\n",
      "Solupsan\n",
      "Zorprin\n"
     ]
    }
   ],
   "source": [
    "_ = [print(term) for term in terms if term != 'Aspirin']"
   ]
  },
  {
   "cell_type": "markdown",
   "id": "686423f2",
   "metadata": {},
   "source": [
    "# Tarefa 4"
   ]
  },
  {
   "cell_type": "code",
   "execution_count": 8,
   "id": "b88127a3",
   "metadata": {},
   "outputs": [
    {
     "name": "stdout",
     "output_type": "stream",
     "text": [
      "427818536\n"
     ]
    }
   ],
   "source": [
    "URL_OSM_lookup = \"http://nominatim.openstreetmap.org/search?format=json&q=Central%20Park\"\n",
    "JSON_OSM_lookup = requests.get(URL_OSM_lookup).json()\n",
    "OSM_ID = JSON_OSM_lookup[0][\"osm_id\"]\n",
    "print(OSM_ID)"
   ]
  },
  {
   "cell_type": "code",
   "execution_count": 9,
   "id": "127c76e5",
   "metadata": {},
   "outputs": [],
   "source": [
    "URL_OSM_way = f\"https://api.openstreetmap.org/api/0.6/way/{OSM_ID}.json\"\n",
    "JSON_OSM_way = requests.get(URL_OSM_way).json()\n",
    "wiki_entry = JSON_OSM_way['elements'][0]['tags']['wikipedia'].split(':')[-1].replace(' ', '_')"
   ]
  },
  {
   "cell_type": "code",
   "execution_count": 10,
   "id": "3769615e",
   "metadata": {},
   "outputs": [],
   "source": [
    "\n",
    "wiki_entry = JSON_OSM_way['elements'][0]['tags']['wikipedia'].split(':')[-1].replace(' ', '_')"
   ]
  },
  {
   "cell_type": "code",
   "execution_count": 11,
   "id": "8730c0c8",
   "metadata": {},
   "outputs": [
    {
     "name": "stdout",
     "output_type": "stream",
     "text": [
      "{\n",
      "   \"d\": {\n",
      "      \"results\": [\n",
      "         {\n",
      "            \"__metadata\": {\n",
      "               \"uri\": \"http://dbpedia.org/resource/Central_Park\"\n",
      "            },\n",
      "            \"http://www.w3.org/2002/07/owl#sameAs\": {\n",
      "               \"__deferred\": {\n",
      "                  \"uri\": \"https://global.dbpedia.org/id/aobi\"\n",
      "               }\n",
      "            },\n",
      "            \"http://www.w3.org/2000/01/rdf-schema#comment\": \"Central Park is een groot stadspark op het eiland Manhattan in de stad New York. Het is het bekendste park van New York en wellicht zelfs van de Verenigde Staten. Central Park komt veelvuldig voor in films en televisieprogramma&#39;s. Met zo\\u2019n 25 miljoen bezoekers per jaar is het park het meest bezochte park in de Verenigde Staten.\",\n",
      "            \"http://dbpedia.org/ontology/wikiPageWikiLink\": {\n",
      "               \"__deferred\": {\n",
      "                  \"uri\": \"http://dbpedia.org/resource/File:SS_Venue_and_Crowd.JPG\"\n",
      "               }\n",
      "            },\n",
      "            \"http://www.w3.org/1999/02/22-rdf-syntax-ns#type\": {\n",
      "               \"__deferred\": {\n",
      "                  \"uri\": \"http://dbpedia.org/class/yago/WikicatHistoricPublicGardens\"\n",
      "               }\n",
      "            },\n",
      "            \"http://dbpedia.org/ontology/wikiPageExternalLink\": {\n",
      "               \"__deferred\": {\n",
      "                  \"uri\": \"https://books.google.com/books%3Fid=56yTCwAAQBAJ&pg=PT80\"\n",
      "               }\n",
      "            },\n",
      "            \"http://schema.org/sameAs\": {\n",
      "               \"__deferred\": {\n",
      "                  \"uri\": \"http://viaf.org/viaf/315146053\"\n",
      "               }\n",
      "            },\n",
      "            \"http://dbpedia.org/property/wikiPageUsesTemplate\": {\n",
      "               \"__deferred\": {\n",
      "                  \"uri\": \"http://dbpedia.org/resource/Template:Authority_control\"\n",
      "               }\n",
      "            },\n",
      "            \"http://dbpedia.org/property/type\": {\n",
      "               \"__deferred\": {\n",
      "                  \"uri\": \"http://dbpedia.org/resource/Urban_park\"\n",
      "               }\n",
      "            },\n",
      "            \"http://dbpedia.org/ontology/abstract\": \"Central Park \\u00e8 il pi\\u00f9 grande parco nel distretto di Manhattan, a New York. Si trova nella Uptown. al centro tra i due quartieri residenziali, l&#39;Upper West Side e l&#39;Upper East Side, i quali prendono il nome dalla loro posizione rispetto al parco. Anche le strade che lo circondano prendono il suo nome. \\u00c8 uno dei parchi cittadini pi\\u00f9 conosciuti del mondo, grazie anche alle sue comparse in numerosi film e telefilm. \\u00c8 chiamato il polmone verde di New York.\",\n",
      "            \"http://www.w3.org/2004/02/skos/core#exactMatch\": {\n",
      "               \"__deferred\": {\n",
      "                  \"uri\": \"http://globalwordnet.org/ili/i84560\"\n",
      "               }\n",
      "            },\n",
      "            \"http://dbpedia.org/property/image\": \"Great-Lawn.jpg\",\n",
      "            \"http://www.w3.org/2000/01/rdf-schema#label\": \"\\u0633\\u0646\\u062a\\u0631\\u0627\\u0644 \\u0628\\u0627\\u0631\\u0643\",\n",
      "            \"http://purl.org/dc/terms/subject\": {\n",
      "               \"__deferred\": {\n",
      "                  \"uri\": \"http://dbpedia.org/resource/Category:Upper_East_Side\"\n",
      "               }\n",
      "            },\n",
      "            \"http://dbpedia.org/ontology/location\": {\n",
      "               \"__deferred\": {\n",
      "                  \"uri\": \"http://dbpedia.org/resource/Manhattan\"\n",
      "               }\n",
      "            },\n",
      "            \"http://dbpedia.org/property/altCaption\": \"Great Lawn before renovations showing large areas of dead grass\",\n",
      "            \"http://dbpedia.org/property/name\": \"Central Park\",\n",
      "            \"http://dbpedia.org/ontology/wikiPageLength\": \"256053\",\n",
      "            \"http://www.w3.org/2003/01/geo/wgs84_pos#geometry\": \"POINT(-73.965278625488 40.782222747803)\",\n",
      "            \"http://dbpedia.org/property/photoWidth\": \"300\",\n",
      "            \"http://dbpedia.org/property/caption\": \"The Loch\",\n",
      "            \"http://dbpedia.org/property/width\": \"220\",\n",
      "            \"http://dbpedia.org/ontology/wikiPageRevisionID\": \"1026300702\",\n",
      "            \"http://dbpedia.org/property/visitationNum\": \"about 42 million annually\",\n",
      "            \"http://dbpedia.org/property/mapCaption\": \"Interactive map showing location of Central Park\",\n",
      "            \"http://dbpedia.org/property/embedded\": \"--05-23\",\n",
      "            \"http://dbpedia.org/ontology/thumbnail\": {\n",
      "               \"__deferred\": {\n",
      "                  \"uri\": \"http://en.wikipedia.org/wiki/Special:FilePath/Southwest_corner_of_Central_Park,_looking_east,_NYC.jpg?width=300\"\n",
      "               }\n",
      "            },\n",
      "            \"http://www.w3.org/2003/01/geo/wgs84_pos#long\": \"-73.96527862548828\",\n",
      "            \"http://dbpedia.org/property/align\": \"right\",\n",
      "            \"http://www.georss.org/georss/point\": \"40.782222222222224 -73.96527777777777\",\n",
      "            \"http://dbpedia.org/property/open\": \"6\",\n",
      "            \"http://dbpedia.org/property/owner\": {\n",
      "               \"__deferred\": {\n",
      "                  \"uri\": \"http://dbpedia.org/resource/New_York_City_Department_of_Parks_and_Recreation\"\n",
      "               }\n",
      "            },\n",
      "            \"http://dbpedia.org/property/publictransit\": \"[[#Public transport\",\n",
      "            \"http://dbpedia.org/property/direction\": \"vertical\",\n",
      "            \"http://purl.org/linguistics/gold/hypernym\": {\n",
      "               \"__deferred\": {\n",
      "                  \"uri\": \"http://dbpedia.org/resource/Park\"\n",
      "               }\n",
      "            },\n",
      "            \"http://dbpedia.org/property/operator\": {\n",
      "               \"__deferred\": {\n",
      "                  \"uri\": \"http://dbpedia.org/resource/Central_Park_Conservancy\"\n",
      "               }\n",
      "            },\n",
      "            \"http://dbpedia.org/property/photoCaption\": \"The Pond and Midtown Manhattan from the Gapstow Bridge\",\n",
      "            \"http://dbpedia.org/property/location\": \"Manhattan, New York City, United States\",\n",
      "            \"http://xmlns.com/foaf/0.1/depiction\": {\n",
      "               \"__deferred\": {\n",
      "                  \"uri\": \"http://en.wikipedia.org/wiki/Special:FilePath/Southwest_corner_of_Central_Park,_looking_east,_NYC.jpg\"\n",
      "               }\n",
      "            },\n",
      "            \"http://xmlns.com/foaf/0.1/isPrimaryTopicOf\": {\n",
      "               \"__deferred\": {\n",
      "                  \"uri\": \"http://en.wikipedia.org/wiki/Central_Park\"\n",
      "               }\n",
      "            },\n",
      "            \"http://www.w3.org/2003/01/geo/wgs84_pos#lat\": \"40.78222274780273\",\n",
      "            \"http://dbpedia.org/property/created\": \"1857\",\n",
      "            \"http://dbpedia.org/ontology/type\": {\n",
      "               \"__deferred\": {\n",
      "                  \"uri\": \"http://dbpedia.org/resource/Urban_park\"\n",
      "               }\n",
      "            },\n",
      "            \"http://dbpedia.org/property/photo\": \"Central Park - The Pond .jpg\",\n",
      "            \"http://dbpedia.org/property/wordnet_type\": {\n",
      "               \"__deferred\": {\n",
      "                  \"uri\": \"http://www.w3.org/2006/03/wn/wn20/instances/synset-location-noun-1\"\n",
      "               }\n",
      "            },\n",
      "            \"http://dbpedia.org/property/title\": \"Articles related to Central Park\",\n",
      "            \"http://www.w3.org/ns/prov#wasDerivedFrom\": {\n",
      "               \"__deferred\": {\n",
      "                  \"uri\": \"http://en.wikipedia.org/wiki/Central_Park?oldid=1026300702&ns=0\"\n",
      "               }\n",
      "            },\n",
      "            \"http://dbpedia.org/ontology/wikiPageID\": \"37536\"\n",
      "         }\n",
      "      ],\n",
      "      \"__count\": \"1\"\n",
      "   }\n",
      "}\n"
     ]
    }
   ],
   "source": [
    "URL_DBPedia_2 = f\"http://dbpedia.org/data/{wiki_entry}.jsod\"\n",
    "JSON_DBPedia_2 = requests.get(URL_DBPedia_2).json()\n",
    "print(json.dumps(JSON_DBPedia_2, indent=3))"
   ]
  }
 ],
 "metadata": {
  "kernelspec": {
   "display_name": "Python 3",
   "language": "python",
   "name": "python3"
  },
  "language_info": {
   "codemirror_mode": {
    "name": "ipython",
    "version": 3
   },
   "file_extension": ".py",
   "mimetype": "text/x-python",
   "name": "python",
   "nbconvert_exporter": "python",
   "pygments_lexer": "ipython3",
   "version": "3.8.8"
  }
 },
 "nbformat": 4,
 "nbformat_minor": 5
}
